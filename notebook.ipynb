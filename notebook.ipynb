{
 "cells": [
  {
   "cell_type": "code",
   "execution_count": null,
   "id": "8b789e00",
   "metadata": {},
   "outputs": [],
   "source": [
    "import pandas as pd\n",
    "import numpy as np\n",
    "import matplotlib.pyplot as plt\n",
    "from sklearn.model_selection import train_test_split\n",
    "from sklearn.pipeline import make_pipeline\n",
    "from sklearn.ensemble import RandomForestClassifier\n",
    "from sklearn.linear_model import LogisticRegression\n",
    "from sklearn.preprocessing import StandardScaler\n",
    "from sklearn.metrics import classification_report, confusion_matrix, accuracy_score\n",
    "import pickle\n",
    "import joblib\n",
    "import dagshub\n",
    "import mlflow\n",
    "import mlflow.sklearn\n",
    "from mlflow.models import infer_signature\n",
    "from evidently import Dataset, DataDefinition\n",
    "from evidently import Report\n",
    "from evidently import BinaryClassification\n",
    "from evidently.presets import DataDriftPreset, ClassificationPreset\n",
    "from datetime import datetime"
   ]
  },
  {
   "cell_type": "code",
   "execution_count": null,
   "id": "80e2bcb0",
   "metadata": {},
   "outputs": [],
   "source": [
    "import evidently\n",
    "print(evidently.__version__)"
   ]
  },
  {
   "cell_type": "code",
   "execution_count": null,
   "id": "115c522e",
   "metadata": {},
   "outputs": [],
   "source": [
    "#dagshub.init(repo_owner='King-David02', repo_name='Rock-vs-Mine', mlflow=True)"
   ]
  },
  {
   "cell_type": "code",
   "execution_count": null,
   "id": "2e9f4a82",
   "metadata": {},
   "outputs": [],
   "source": [
    "data = pd.read_csv('data/Sonar.csv')\n",
    "data"
   ]
  },
  {
   "cell_type": "code",
   "execution_count": null,
   "id": "a3c1d658",
   "metadata": {},
   "outputs": [],
   "source": [
    "data= data.rename(columns={'Label': 'Target'})\n",
    "data"
   ]
  },
  {
   "cell_type": "code",
   "execution_count": null,
   "id": "5e83e143",
   "metadata": {},
   "outputs": [],
   "source": [
    "X = data.drop('Target', axis=1)\n",
    "y = data['Target']"
   ]
  },
  {
   "cell_type": "code",
   "execution_count": null,
   "id": "304cae4d",
   "metadata": {},
   "outputs": [],
   "source": [
    "X"
   ]
  },
  {
   "cell_type": "code",
   "execution_count": null,
   "id": "a9a61df4",
   "metadata": {},
   "outputs": [],
   "source": [
    "y"
   ]
  },
  {
   "cell_type": "code",
   "execution_count": null,
   "id": "b671fc57",
   "metadata": {},
   "outputs": [],
   "source": [
    "X_train, X_test, y_train, y_test = train_test_split(X, y, test_size=0.2, random_state=42)\n"
   ]
  },
  {
   "cell_type": "code",
   "execution_count": null,
   "id": "be2567f9",
   "metadata": {},
   "outputs": [],
   "source": [
    "X_test"
   ]
  },
  {
   "cell_type": "code",
   "execution_count": null,
   "id": "a1d9a8b4",
   "metadata": {},
   "outputs": [],
   "source": [
    "pipeline = make_pipeline(StandardScaler(),\n",
    "                         RandomForestClassifier(n_estimators=100, random_state=42))\n",
    "\n",
    "pipeline.fit(X_train, y_train)\n",
    "y_pred = pipeline.predict(X_test).astype(str)\n",
    "sonar_data_prediction = pipeline.predict(data.drop('Target', axis=1))\n",
    "joblib.dump(pipeline, 'model/pipeline.pkl')"
   ]
  },
  {
   "cell_type": "code",
   "execution_count": null,
   "id": "6278556e",
   "metadata": {},
   "outputs": [],
   "source": [
    "y_pred"
   ]
  },
  {
   "cell_type": "code",
   "execution_count": null,
   "id": "9446d1a0",
   "metadata": {},
   "outputs": [],
   "source": [
    "other_data = pd.read_csv('data/rock_vs_mine_dataset.csv')\n",
    "other_data['prediction'] = pipeline.predict(other_data.drop('Target', axis=1))\n",
    "other_data.to_csv('data/predicted_data/current_data.csv', index=False)"
   ]
  },
  {
   "cell_type": "code",
   "execution_count": null,
   "id": "8fa100c3",
   "metadata": {},
   "outputs": [],
   "source": [
    "data['prediction'] = sonar_data_prediction\n",
    "data.to_csv('data/predicted_data/reference_data.csv', index=False)"
   ]
  },
  {
   "cell_type": "code",
   "execution_count": null,
   "id": "52c5ac34",
   "metadata": {},
   "outputs": [],
   "source": [
    "from sklearn.metrics import confusion_matrix\n",
    "cm = confusion_matrix(y_test, y_pred)\n",
    "print(cm)"
   ]
  },
  {
   "cell_type": "code",
   "execution_count": null,
   "id": "ba7305bb",
   "metadata": {},
   "outputs": [],
   "source": [
    "definition = DataDefinition(classification=[\n",
    "    BinaryClassification(\n",
    "        target='Target',\n",
    "        prediction_labels='prediction',\n",
    "        labels={'R': 'Rock', 'M': 'Mine'},\n",
    "        pos_label='R'\n",
    "    )\n",
    "])"
   ]
  },
  {
   "cell_type": "code",
   "execution_count": null,
   "id": "18505ee5",
   "metadata": {},
   "outputs": [],
   "source": [
    "reff_data = Dataset.from_pandas(data=data, data_definition=definition)\n",
    "curr_data = Dataset.from_pandas(data=other_data, data_definition=definition)"
   ]
  },
  {
   "cell_type": "code",
   "execution_count": null,
   "id": "b6d8a32c",
   "metadata": {},
   "outputs": [],
   "source": [
    "report = Report(metrics=[\n",
    "    DataDriftPreset(),\n",
    "    ClassificationPreset()\n",
    "])"
   ]
  },
  {
   "cell_type": "code",
   "execution_count": null,
   "id": "af34f768",
   "metadata": {},
   "outputs": [],
   "source": [
    "report = report.run(current_data=curr_data, reference_data=reff_data)"
   ]
  },
  {
   "cell_type": "code",
   "execution_count": null,
   "id": "a1ad6b0b",
   "metadata": {},
   "outputs": [],
   "source": [
    "from evidently.ui.workspace import Workspace\n",
    "ws = Workspace.create('workspace')"
   ]
  },
  {
   "cell_type": "code",
   "execution_count": null,
   "id": "1aa39540",
   "metadata": {},
   "outputs": [],
   "source": [
    "project = ws.create_project('RvM_Dashboard')\n",
    "project"
   ]
  },
  {
   "cell_type": "code",
   "execution_count": null,
   "id": "d8228792",
   "metadata": {},
   "outputs": [],
   "source": [
    "ws.add_run(project.id, report)"
   ]
  },
  {
   "cell_type": "code",
   "execution_count": null,
   "id": "006b5026",
   "metadata": {},
   "outputs": [],
   "source": [
    "'''st = StandardScaler()\n",
    "X_train = st.fit_transform(X_train)\n",
    "X_test = st.transform(X_test)'''"
   ]
  },
  {
   "cell_type": "code",
   "execution_count": null,
   "id": "8c16bdef",
   "metadata": {},
   "outputs": [],
   "source": [
    "'''rf = RandomForestClassifier(n_estimators=100, random_state=42)\n",
    "rf.fit(X_train, y_train)\n",
    "y_pred = rf.predict(X_test)\n",
    "joblib.dump(st, \"scaler.pkl\")\n",
    "joblib.dump(rf, \"rf_model.pkl\")'''"
   ]
  },
  {
   "cell_type": "code",
   "execution_count": null,
   "id": "44abb3c1",
   "metadata": {},
   "outputs": [],
   "source": [
    "'''with mlflow.start_run(run_name='Artifacts Method'):\n",
    "    mlflow.autolog()\n",
    "    st = StandardScaler()\n",
    "    X_train = st.fit_transform(X_train)\n",
    "    X_test = st.transform(X_test)\n",
    "    rf = RandomForestClassifier(n_estimators=100, random_state=42)\n",
    "    rf.fit(X_train, y_train)\n",
    "    y_pred = rf.predict(X_test)\n",
    "    report_str = classification_report(y_test, y_pred)\n",
    "    with open(\"classification_report.txt\", \"w\") as f:\n",
    "        f.write(report_str)\n",
    "    mlflow.log_artifact(\"classification_report.txt\")\n",
    "    joblib.dump(st, \"scaler.pkl\")\n",
    "    mlflow.log_artifact(\"scaler.pkl\")\n",
    "    joblib.dump(rf, \"rf_model.pkl\")\n",
    "    mlflow.log_artifact(\"rf_model.pkl\")\n",
    "    #mlflow.sklearn.log_model(rf, name=\"model\")'''"
   ]
  },
  {
   "cell_type": "code",
   "execution_count": null,
   "id": "a47fd819",
   "metadata": {},
   "outputs": [],
   "source": [
    "'''with mlflow.start_run(run_name='Random Forest'):\n",
    "    mlflow.autolog()\n",
    "    pipeline = make_pipeline(StandardScaler(),\n",
    "                            RandomForestClassifier()\n",
    "                            )\n",
    "    pipeline.fit(X_train, y_train)\n",
    "    y_pred = pipeline.predict(X_test)\n",
    "    sample_data = X[:10]\n",
    "    sample_prediction = pipeline.predict(sample_data)\n",
    "    signature = infer_signature(sample_data, sample_prediction)\n",
    "    report_str = classification_report(y_test, y_pred)\n",
    "    with open(\"classification_report.txt\", \"w\") as f:\n",
    "        f.write(report_str)\n",
    "    mlflow.log_artifact(\"classification_report.txt\")\n",
    "    mlflow.sklearn.log_model(pipeline, \"model\", signature=signature)\n",
    "    #joblib.dump(pipeline, \"pipeline.pkl\")\n",
    "    #mlflow.log_artifact(\"pipeline.pkl\")'''"
   ]
  },
  {
   "cell_type": "code",
   "execution_count": null,
   "id": "ba73b762",
   "metadata": {},
   "outputs": [],
   "source": [
    "'''with open('model.pkl', 'wb') as file:\n",
    "    pickle.dump(pipeline, file)'''"
   ]
  },
  {
   "cell_type": "code",
   "execution_count": null,
   "id": "670e6bb1",
   "metadata": {},
   "outputs": [],
   "source": [
    "#print(mlflow.get_tracking_uri())"
   ]
  },
  {
   "cell_type": "code",
   "execution_count": null,
   "id": "49de12ad",
   "metadata": {},
   "outputs": [],
   "source": [
    "'''with mlflow.start_run(run_name='Logistic'):\n",
    "    mlflow.autolog()\n",
    "    pipeline2 = make_pipeline(\n",
    "        StandardScaler(),\n",
    "        LogisticRegression()\n",
    "    )\n",
    "    pipeline2.fit(X_train, y_train)\n",
    "    prediction = pipeline2.predict(X_test)\n",
    "    sample_data = X[:10]\n",
    "    sample_prediction = pipeline2.predict(sample_data)\n",
    "    signature2 = infer_signature(sample_data, sample_prediction)\n",
    "    report_str_lr = classification_report(y_test, prediction)\n",
    "    with open(\"lr_classification_report.txt\", \"w\") as f:\n",
    "        f.write(report_str_lr)\n",
    "    mlflow.log_artifact(\"lr_classification_report.txt\")\n",
    "    #joblib.dump(pipeline2, \"lr_model.pkl\")\n",
    "    #mlflow.log_artifact(\"lr_model.pkl\")\n",
    "    #mlflow.sklearn.log_model(pipeline2, \"lrmodel\", signature=signature2)'''"
   ]
  },
  {
   "cell_type": "code",
   "execution_count": null,
   "id": "8bcee02b",
   "metadata": {},
   "outputs": [],
   "source": [
    "import sys\n",
    "print(sys.executable)"
   ]
  },
  {
   "cell_type": "code",
   "execution_count": null,
   "id": "39af28d6",
   "metadata": {},
   "outputs": [],
   "source": []
  }
 ],
 "metadata": {
  "kernelspec": {
   "display_name": "Rock vs Mine",
   "language": "python",
   "name": "python3"
  },
  "language_info": {
   "codemirror_mode": {
    "name": "ipython",
    "version": 3
   },
   "file_extension": ".py",
   "mimetype": "text/x-python",
   "name": "python",
   "nbconvert_exporter": "python",
   "pygments_lexer": "ipython3",
   "version": "3.12.10"
  }
 },
 "nbformat": 4,
 "nbformat_minor": 5
}
